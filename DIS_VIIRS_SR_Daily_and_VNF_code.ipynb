{
 "cells": [
  {
   "cell_type": "code",
   "execution_count": 1,
   "id": "45577ce2",
   "metadata": {},
   "outputs": [],
   "source": [
    "import ee\n",
    "# ee.Authenticate()\n",
    "import geemap\n",
    "import geemap.chart as chart\n",
    "import os\n",
    "geemap.ee_initialize()\n",
    "# geemap.update_package()\n",
    "# !pip install geemap rasterio fiona\n",
    "import json\n",
    "import pandas as pd\n",
    "# !pip install seaborn\n",
    "import seaborn as sns\n",
    "import numpy as np\n",
    "import matplotlib.pyplot as plt\n",
    "import ipyleaflet\n",
    "import ipywidgets as widgets\n",
    "import math\n",
    "import datetime as dt"
   ]
  },
  {
   "cell_type": "code",
   "execution_count": 36,
   "id": "b5cdc929",
   "metadata": {},
   "outputs": [],
   "source": [
    "# Define a Point object\n",
    "poi = ee.Geometry.Point([48.116927, 31.272270]).buffer(2000)\n",
    "GF = ee.Geometry.Point([48.116927, 31.272270]).buffer(50)\n",
    "\n",
    "# Define Map and enable drawn features exports\n",
    "Map = geemap.Map(basemap=\"HYBRID\")\n",
    "Map.centerObject(poi, 13)\n",
    "\n",
    "# Create start and end dates\n",
    "start = '2021-04-01'\n",
    "end = '2021-05-01'"
   ]
  },
  {
   "cell_type": "code",
   "execution_count": 37,
   "id": "e85bc113",
   "metadata": {},
   "outputs": [],
   "source": [
    "# Create cloud and cirrus mask function, set to 0 to only display clear skies\n",
    "\n",
    "# Function for cloud masking: \n",
    "# QF1 (bits 2-3, 0=confident clear, 1=probably clear)\n",
    "# QF6 (bit 5, 0=good overall I3 data quality, 1=bad overall I3 data quality)\n",
    "def cloudmask(image):\n",
    "    qa = image.select('QF1')\n",
    "    bitMask2 = 1 << 2\n",
    "    bitMask3 = 1 << 3\n",
    "    qf = image.select('QF6')\n",
    "    bitMask5 = 1 << 5\n",
    "    mask = qa.bitwiseAnd(bitMask2).eq(0).And(qa.bitwiseAnd(bitMask3).eq(0)).And(qa.bitwiseAnd(bitMask5).eq(0))\n",
    "    return image.updateMask(mask)\n",
    "\n",
    "\n",
    "# Function to scale data\n",
    "def scale(image):\n",
    "    return image.multiply(0.0001).copyProperties(image).set('system:time_start', image.get('system:time_start'))\n",
    "\n",
    "# def addTime(image):\n",
    "#     return image.addBands(image.metadata('system:index') \\\n",
    "#                           .divide(1000 * 60 * 60 * 24 * 365))"
   ]
  },
  {
   "cell_type": "code",
   "execution_count": 56,
   "id": "3e44ab55",
   "metadata": {},
   "outputs": [],
   "source": [
    "# VIIRS Surface Reflectance Daily 500m and 1km VNP09GA\n",
    "VIIRS = ee.ImageCollection('NOAA/VIIRS/001/VNP09GA') \\\n",
    "    .filterDate(start, end) \\\n",
    "    .select('I3', 'M11', 'QF1', 'QF5') \\\n",
    "    .filterBounds(poi) \\\n",
    "    .map(cloudmask) \\\n",
    "    .map(scale) \\\n",
    "#     .map(lambda image: image.clip(poi)) \\\n",
    "#     .map(addTime) \\\n",
    "\n",
    "# Single date image\n",
    "VIIRS_img = ee.Image('NOAA/VIIRS/001/VNP09GA/2021_04_21').select('I3').multiply(0.0001)"
   ]
  },
  {
   "cell_type": "code",
   "execution_count": 57,
   "id": "e46036e3",
   "metadata": {},
   "outputs": [],
   "source": [
    "# # Retrieve image (collection) property info\n",
    "# VIIRS.aggregate_array('system:index').getInfo()\n",
    "# VIIRS_img.propertyNames().getInfo()\n",
    "# VIIRS_img.getInfo()"
   ]
  },
  {
   "cell_type": "code",
   "execution_count": 54,
   "id": "153dd5ba",
   "metadata": {},
   "outputs": [],
   "source": [
    "# Set visualisation parameter options\n",
    "\n",
    "vizParamsVIIRS = {\n",
    "#     'bands': ['I3'],\n",
    "#     'bands': ['M5', 'M4', 'M3'],\n",
    "    'min': 0.4,\n",
    "    'max': 0.8,\n",
    "};"
   ]
  },
  {
   "cell_type": "code",
   "execution_count": 58,
   "id": "f05a56b6",
   "metadata": {
    "scrolled": false
   },
   "outputs": [
    {
     "data": {
      "application/vnd.jupyter.widget-view+json": {
       "model_id": "b639f51d9c5444d48cafb6b759af3871",
       "version_major": 2,
       "version_minor": 0
      },
      "text/plain": [
       "Map(bottom=27067.0, center=[31.284223532815446, 48.345898576525414], controls=(WidgetControl(options=['positio…"
      ]
     },
     "metadata": {},
     "output_type": "display_data"
    }
   ],
   "source": [
    "# # Add layers to Map\n",
    "# Map.addLayer(VIIRS, vizParamsVIIRS, \"VIIRS SR\")\n",
    "# Map.addLayer(VIIRS_img, vizParamsVIIRS, \"VIIRS_img SR\")\n",
    "# Map.addLayer(Fire, {}, \"MOD14A1\")\n",
    "# Map.addLayer(poi, {}, 'POI')\n",
    "# Map.addLayer(GF, {}, 'GF')\n",
    "\n",
    "# # Visualise map and center at area of interest\n",
    "# Map.addLayerControl()\n",
    "# Map.centerObject(poi, 10);\n",
    "# Map"
   ]
  },
  {
   "cell_type": "code",
   "execution_count": 45,
   "id": "8b206468",
   "metadata": {},
   "outputs": [
    {
     "data": {
      "text/plain": [
       "<matplotlib.legend.Legend at 0x2c4c8b87c10>"
      ]
     },
     "execution_count": 45,
     "metadata": {},
     "output_type": "execute_result"
    },
    {
     "data": {
      "image/png": "[encoded data removed]",
      "text/plain": [
       "<Figure size 1080x504 with 2 Axes>"
      ]
     },
     "metadata": {
      "needs_background": "light"
     },
     "output_type": "display_data"
    }
   ],
   "source": [
    "# Prepare time series for 1) VIIRS I3 and 2) VNF\n",
    "\n",
    "# 1)\n",
    "# Extract image values in collection (function takes single image as input and reduces data to region)\n",
    "def poi_I3(img):\n",
    "    max = img.reduceRegion(reducer=ee.Reducer.max(), geometry=poi, scale=500).get('I3')\n",
    "    return img.set('date', img.date().format()).set('max',max)\n",
    "\n",
    "# Apply function to all images in collection\n",
    "poi_reduced_I3 = VIIRS.map(poi_I3)\n",
    "\n",
    "# Set up function to create dataframe\n",
    "def createFrame(imgs, inputList):\n",
    "    # Convert image information to list (date + mean value), create pandas df and set date column to index\n",
    "    img_list = imgs.reduceColumns(ee.Reducer.toList(2), inputList).values().get(0)\n",
    "    df = pd.DataFrame(img_list.getInfo(), columns=inputList)\n",
    "    df[inputList[0]] = pd.to_datetime(df[inputList[0]])\n",
    "#     df = df.set_index('date')\n",
    "    return df\n",
    "\n",
    "# Create time series graph for POI\n",
    "dfI3 = createFrame(poi_reduced_I3, ['date','max'])\n",
    "\n",
    "# # Normalise I3 data if needed\n",
    "# dfI3['NORMI3'] = (dfI3['max'] - dfI3['max'].min()) / (dfI3['max'].max() - dfI3['max'].min())\n",
    "\n",
    "\n",
    "# 2)\n",
    "# Read .csv from VNF reference dataset, format date, define date range\n",
    "dfVNF = pd.read_csv('VNF_Gas_flares/GF4/GF4_2021_max.csv', parse_dates=['Date_Mscan'], \\\n",
    "                    date_parser=lambda x: pd.to_datetime(x, format='%Y-%m-%d'))\n",
    "\n",
    "# dfVNF.rename(columns={'Date_Mscan': 'date'}, inplace=True)\n",
    "# dfVNF.rename(columns={'RH': 'max'}, inplace=True)\n",
    "\n",
    "dfVNF_filt = dfVNF.loc[(dfVNF['Date_Mscan'] >= '2021-01-01') \\\n",
    "                        & (dfVNF['Date_Mscan'] < '2021-12-31')]\n",
    "\n",
    "\n",
    "# # Visualise plot\n",
    "# 1) create pyplot figure\n",
    "fig, ax = plt.subplots(figsize=(15,7))\n",
    "ax2 = ax.twinx()\n",
    "\n",
    "# 2) add df to figure\n",
    "ax.bar(dfI3['date'], dfI3['max'], label='max I3')\n",
    "ax2.scatter(dfVNF_filt['Date_Mscan'], dfVNF_filt['RH'], label='max VNF', marker='o', color='C1')\n",
    "\n",
    "# 3) set figure viz\n",
    "ax.set_ylabel('VIIRS I3 max daily SR', fontsize=22)\n",
    "ax.set_ylim(ymin=0)\n",
    "ax.set_xlabel('Date', fontsize=22)\n",
    "ax.set_title('Gas flare 4', fontsize=22);\n",
    "ax.grid()\n",
    "ax2.set_ylim(ymin=0)\n",
    "ax2.set_ylabel('VNF max Source Radiant Heat (MW)', fontsize=20)\n",
    "ax.legend(loc='lower left', fontsize=20)\n",
    "ax2.legend(loc='lower right', fontsize=20)\n",
    "ax2.grid()"
   ]
  },
  {
   "cell_type": "code",
   "execution_count": 26,
   "id": "b606a499",
   "metadata": {},
   "outputs": [
    {
     "name": "stdout",
     "output_type": "stream",
     "text": [
      "Mean I3 value on any day\n",
      "0.61\n",
      "SD of I3 values on andy day\n",
      "0.17\n",
      "Mean I3 value on a day when VNF on\n",
      "0.63\n",
      "SD of I3 values on andy day\n",
      "0.16\n"
     ]
    }
   ],
   "source": [
    "# Loop through df to find dates where VNF and VIIRS I3 match\n",
    "\n",
    "# Define start and end variables\n",
    "day = min(dfI3['date'])\n",
    "day_end = max(dfI3['date'])\n",
    "\n",
    "# Create starting points for both datasets and empty lists\n",
    "number_total = 0\n",
    "number_I3 = 0\n",
    "number_VNFifI3 = 0\n",
    "number_VNF = 0\n",
    "list_notI3 = []\n",
    "list_notVNF = []\n",
    "list_notVNFifI3 = []\n",
    "list_I3ifVNF = []\n",
    "\n",
    "# Set up function to iterate through datasets\n",
    "while day <= day_end:\n",
    "    number_total += 1\n",
    "    if day in dfI3['date'].to_list():\n",
    "        number_I3 += 1\n",
    "        if day in dfVNF_filt['Date_Mscan'].to_list():\n",
    "            number_VNFifI3 += 1\n",
    "            rowToAdd = dfI3[dfI3['date'] == day]\n",
    "            list_I3ifVNF.append(rowToAdd['max'])\n",
    "        else:\n",
    "            list_notVNFifI3.append(day)\n",
    "    else:\n",
    "        list_notI3.append(day)\n",
    "    if day in dfVNF_filt['Date_Mscan'].to_list():\n",
    "        number_VNF += 1\n",
    "    else:\n",
    "        list_notVNF.append(day)\n",
    "    day += dt.timedelta(days=1)\n",
    "\n",
    "\n",
    "# Print information    \n",
    "print(\"Mean I3 value on any day\")\n",
    "print(dfI3['max'].mean().round(decimals=2))\n",
    "\n",
    "print(\"SD of I3 values on andy day\")\n",
    "print(dfI3['max'].std().round(decimals=2))\n",
    "\n",
    "print(\"Mean I3 value on a day when VNF on\")\n",
    "print(np.mean(list_I3ifVNF).round(decimals=2))\n",
    "\n",
    "print(\"SD of I3 values on andy day\")\n",
    "print(np.std(list_I3ifVNF).round(decimals=2))\n",
    "\n",
    "\n",
    "print(\"I3 value available\")\n",
    "percent_I3 = str(round(100*number_I3/number_total))\n",
    "print(\"I3: \"+percent_I3+\"%\")\n",
    "\n",
    "print(\"VNF value available\")\n",
    "percent_VNF = str(round(100*number_VNF/number_total))\n",
    "print(\"VNF: \"+percent_VNF+\"%\")\n",
    "\n",
    "print(\"VNF available when I3 detected\")\n",
    "percent_VNFifI3 = str(round(100*number_VNFifI3/number_I3))\n",
    "print(\"VNF: \"+percent_VNFifI3+\"%\")"
   ]
  },
  {
   "cell_type": "code",
   "execution_count": 12,
   "id": "b4fde43e",
   "metadata": {},
   "outputs": [
    {
     "name": "stdout",
     "output_type": "stream",
     "text": [
      "Mean I3 value on a day when VNF on\n",
      "0.74\n",
      "SD of I3 values on andy day\n",
      "0.23\n"
     ]
    }
   ],
   "source": [
    "# Loop through df to find dates where VNF is the night before a VIIRS I3 detection\n",
    "\n",
    "# Define start and end variables\n",
    "day = min(dfI3['date']) + dt.timedelta(days=1)\n",
    "day_end = max(dfI3['date'])\n",
    "\n",
    "# Create starting points for both datasets and empty lists\n",
    "number_total = 0\n",
    "number_I3 = 0\n",
    "number_VNFbeforeI3 = 0\n",
    "number_VNF = 0\n",
    "list_notVNFbeforeI3 = []\n",
    "list_I3ifVNFbefore = []\n",
    "\n",
    "# Set up function to iterate through datasets\n",
    "while day <= day_end:\n",
    "    day_before = day - dt.timedelta(days=1)\n",
    "    number_total += 1\n",
    "    if day in dfI3['date'].to_list():\n",
    "        number_I3 += 1\n",
    "        if day_before in dfVNF_filt['Date_Mscan'].to_list():\n",
    "            number_VNFbeforeI3 += 1\n",
    "            rowToAdd = dfI3[dfI3['date'] == day]\n",
    "            list_I3ifVNFbefore.append(rowToAdd['max'])\n",
    "        else:\n",
    "            list_notVNFbeforeI3.append(day)\n",
    "    if day in dfVNF_filt['Date_Mscan'].to_list():\n",
    "        number_VNF += 1\n",
    "    day += dt.timedelta(days=1)\n",
    "\n",
    "\n",
    "# Print information \n",
    "print(\"Mean I3 value on a day when VNF on\")\n",
    "print(np.mean(list_I3ifVNFbefore).round(decimals=2))\n",
    "\n",
    "print(\"SD of I3 values on andy day\")\n",
    "print(np.std(list_I3ifVNFbefore).round(decimals=2))\n",
    "\n",
    "\n",
    "print(\"I3 value available\")\n",
    "percent_I3 = str(round(100*number_I3/number_total))\n",
    "print(\"I3: \"+percent_I3+\"%\")\n",
    "\n",
    "print(\"VNF value available\")\n",
    "percent_VNF = str(round(100*number_VNF/number_total))\n",
    "print(\"VNF: \"+percent_VNF+\"%\")\n",
    "\n",
    "print(\"VNF available day before I3 detected\")\n",
    "percent_VNFbeforeI3 = str(round(100*number_VNFbeforeI3/number_I3))\n",
    "print(\"VNF: \"+percent_VNFbeforeI3+\"%\")\n"
   ]
  },
  {
   "cell_type": "code",
   "execution_count": 13,
   "id": "248e6c7e",
   "metadata": {},
   "outputs": [
    {
     "data": {
      "image/png": "[encoded data removed]",
      "text/plain": [
       "<Figure size 1080x504 with 1 Axes>"
      ]
     },
     "metadata": {
      "needs_background": "light"
     },
     "output_type": "display_data"
    }
   ],
   "source": [
    "# Plot days on which there are no I3 or VNF detections\n",
    "\n",
    "# Create lists for both datasets for plotting\n",
    "list_notVNFbar = [1 for item in list_notVNF]\n",
    "list_notI3bar = [1 for item in list_notI3]\n",
    "\n",
    "\n",
    "# # Visualise plot\n",
    "# 1) create pyplot figure\n",
    "fig, ax = plt.subplots(figsize=(15,7))\n",
    "ax2 = ax.twinx()\n",
    "\n",
    "# 2) add df to figure\n",
    "ax.bar(list_notI3, list_notI3bar, label='no I3')\n",
    "ax.bar(list_notVNF, list_notVNFbar, label='no VNF', color='C1')\n",
    "\n",
    "# 3) set figure viz\n",
    "ax.set_ylabel('Signal absence', fontsize=22)\n",
    "ax.set_ylim(ymin=0)\n",
    "ax.set_xlabel('Date', fontsize=22)\n",
    "ax.set_title('Gas flare 4', fontsize=22);\n",
    "ax.legend(loc='upper left', fontsize=20)\n",
    "ax.grid()\n",
    "ax2.legend(loc='upper right')\n",
    "ax2.set_ylim(ymin=0)\n",
    "ax2.set_ylabel('VNF Source Radiant Heat (MW)', fontsize=20)"
   ]
  },
  {
   "cell_type": "code",
   "execution_count": 14,
   "id": "d3ac7f16",
   "metadata": {},
   "outputs": [],
   "source": [
    "# Bin data month by month to see which month has the highest amount of days without any signals\n",
    "\n",
    "# Set up function to iterate through datasets\n",
    "def bin_by_month(day_list):\n",
    "    df = pd.DataFrame()\n",
    "    for item in day_list:\n",
    "        month = item.month\n",
    "        if month not in df:\n",
    "            df[month] = [0]\n",
    "        df[month][0] = df[month][0]+1\n",
    "    df = df.T\n",
    "    df.rename(columns={0: 'Absences'}, inplace=True)\n",
    "    return df\n",
    "\n",
    "# Create dataframes containing bins\n",
    "df_notI3 = bin_by_month(list_notI3)\n",
    "df_notVNF = bin_by_month(list_notVNF)\n",
    "\n",
    "# Rename columns in dataframes\n",
    "df_notI3.rename(columns={'Absences': 'No I3 detection'}, inplace=True)\n",
    "df_notVNF.rename(columns={'Absences': 'No VNF detection'}, inplace=True)"
   ]
  },
  {
   "cell_type": "code",
   "execution_count": 15,
   "id": "5e56bf19",
   "metadata": {},
   "outputs": [
    {
     "name": "stdout",
     "output_type": "stream",
     "text": [
      "    No I3 detection  No VNF detection\n",
      "11                2                 5\n"
     ]
    },
    {
     "data": {
      "image/png": "[encoded data removed]",
      "text/plain": [
       "<Figure size 432x288 with 1 Axes>"
      ]
     },
     "metadata": {
      "needs_background": "light"
     },
     "output_type": "display_data"
    }
   ],
   "source": [
    "# Plot summarised absences of VNF and I3 per month\n",
    "\n",
    "# Combine dataframes for plotting\n",
    "frames = [df_notI3, df_notVNF]\n",
    "result = pd.concat(frames, axis=1)\n",
    "print(result)\n",
    "\n",
    "# # Visualise plot\n",
    "# 1) create pyplot figure\n",
    "result.sort_index().plot.bar(title='Gas flare 4', xlabel='Month', ylabel='Count of days with no detection')\n",
    "plt.ylim(ymin=0, ymax=31)\n",
    "plt.grid()"
   ]
  },
  {
   "cell_type": "code",
   "execution_count": 16,
   "id": "1fde660a",
   "metadata": {},
   "outputs": [
    {
     "data": {
      "text/plain": [
       "<matplotlib.legend.Legend at 0x19499df8250>"
      ]
     },
     "execution_count": 16,
     "metadata": {},
     "output_type": "execute_result"
    },
    {
     "data": {
      "image/png": "[encoded data removed]",
      "text/plain": [
       "<Figure size 1080x504 with 1 Axes>"
      ]
     },
     "metadata": {
      "needs_background": "light"
     },
     "output_type": "display_data"
    }
   ],
   "source": [
    "# # Find I3 detections in 2021 where SR values < 0.4 to investigate what values indicate unlit flares\n",
    "\n",
    "# # dfI3_filt = dfI3.loc[(dfI3['max'] <= '0.4')]\n",
    "\n",
    "# # 1) create pyplot figure\n",
    "# fig, ax = plt.subplots(figsize=(15,7))\n",
    "\n",
    "# # 2) add df to figure\n",
    "# ax.bar(dfI3['date'], dfI3['max'], label='max I3')\n",
    "\n",
    "# # 3) set figure viz\n",
    "# ax.set_ylabel('VIIRS I3 max daily SR', fontsize=22)\n",
    "# ax.set_ylim(ymin=0)\n",
    "# ax.set_xlabel('Date', fontsize=22)\n",
    "# ax.set_title('Gas flare 4', fontsize=22);\n",
    "# ax.grid()\n",
    "# ax.legend(loc='lower left', fontsize=20)"
   ]
  }
 ],
 "metadata": {
  "kernelspec": {
   "display_name": "Python 3 (ipykernel)",
   "language": "python",
   "name": "python3"
  },
  "language_info": {
   "codemirror_mode": {
    "name": "ipython",
    "version": 3
   },
   "file_extension": ".py",
   "mimetype": "text/x-python",
   "name": "python",
   "nbconvert_exporter": "python",
   "pygments_lexer": "ipython3",
   "version": "3.8.13"
  }
 },
 "nbformat": 4,
 "nbformat_minor": 5
}
